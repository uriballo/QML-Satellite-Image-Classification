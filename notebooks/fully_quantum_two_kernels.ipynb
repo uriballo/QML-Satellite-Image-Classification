{
 "cells": [
  {
   "cell_type": "code",
   "execution_count": 1,
   "id": "58f52813-d7b3-4d10-a62b-13702d732b91",
   "metadata": {},
   "outputs": [
    {
     "name": "stderr",
     "output_type": "stream",
     "text": [
      "c:\\Users\\rodriguezota\\FUJITSU\\CoE Data Intelligence - CESGA- CIDE\\Quantum_Center\\Proyectos\\Eurecat\\src\\venv\\lib\\site-packages\\IPython\\core\\magics\\osm.py:417: UserWarning: This is now an optional IPython functionality, setting dhist requires you to install the `pickleshare` library.\n",
      "  self.shell.db['dhist'] = compress_dhist(dhist)[-100:]\n"
     ]
    },
    {
     "name": "stdout",
     "output_type": "stream",
     "text": [
      "c:\\Users\\rodriguezota\\FUJITSU\\CoE Data Intelligence - CESGA- CIDE\\Quantum_Center\\Proyectos\\Eurecat\\src\\QML-Satellite-Image-Classification\n"
     ]
    }
   ],
   "source": [
    "%cd ..\n",
    "\n",
    "import torch\n",
    "from torch.utils.data import DataLoader, TensorDataset\n",
    "import time\n",
    "import numpy as np\n",
    "\n",
    "from src.nn.ansatz.simplified_two_design import simplified_two_design, get_num_params_simplified_two_design\n",
    "from src.nn.ansatz.one_kernel import one_kernel, get_num_params_one_kernel\n",
    "from src.nn.ansatz.two_kernels import two_kernels, get_num_params_two_kernels\n",
    "from src.nn.ansatz.no_entanglement_circuit import no_entanglement_random_circuit\n",
    "from src.nn.ansatz.full_entanglement_circuit import full_entanglement_circuit\n",
    "from src.nn.measurements.default import default_measurement\n",
    "from src.nn.measurements.multiqubit_observable_measurement import get_pauli_multiqubit_observables,get_pauli_words,random_pauli_string_over_meas_wires,measurement_multiqubit\n",
    "from src.nn.ansatz.NQ_circuit import NQ_circuit\n",
    "from src.nn.ansatz.ring_circuit import ring_circuit\n",
    "from src.nn.encodings.IQP_embedding import custom_iqp_embedding\n",
    "from src.nn.encodings.NQE_embedding import NQE_embedding\n",
    "from src.nn.encodings.ring_embedding import ring_embedding\n",
    "from src.nn.encodings.waterfall_embedding import waterfall_embedding\n",
    "from src.nn.encodings.pennylane_templates import amplitude_embedding, angle_embedding, QAOA_embedding\n",
    "from src.nn.encodings.frqi_mc import FRQI_MC\n",
    "from src.utils.dataset import EuroSAT, DeepSatCSV\n",
    "from src.utils.reshape_data import ReshapeDATA\n",
    "\n",
    "from src.nn.models.quantum.QCNN import QuantumCircuitModel\n",
    "from src.utils.training import Trainer\n",
    "\n",
    "import logging\n",
    "logging.getLogger(\"pennylane\").setLevel(logging.WARNING)\n",
    "logging.getLogger('matplotlib').setLevel(logging.WARNING)\n",
    "import warnings\n",
    "warnings.filterwarnings('ignore', category=UserWarning, module='IPython')"
   ]
  },
  {
   "cell_type": "code",
   "execution_count": 2,
   "id": "7f4a90ac-8767-41f7-9c35-9403768fbded",
   "metadata": {},
   "outputs": [],
   "source": [
    "limit = 100\n",
    "dataset_ = \"EuroSAT\"\n",
    "\n",
    "if dataset_ == \"EuroSAT\":\n",
    "    allowed_classes = ['AnnualCrop', 'Forest', 'HerbaceousVegetation', 'Highway', 'Industrial', 'Pasture', 'PermanentCrop', 'Residential', 'River', 'SeaLake']\n",
    "elif dataset_ == \"DeepSat4\":\n",
    "    allowed_classes = ['BarrenLand', 'Trees', 'Grassland', 'Other']\n",
    "elif dataset_ == \"DeepSat6\":\n",
    "    allowed_classes = ['BarrenLand', 'Trees', 'Grassland', 'Roads', 'Buildings' , 'WaterBodies']\n",
    "    \n",
    "config = {\n",
    "    'allowed_classes': ['Industrial', 'SeaLake']\n",
    "    #'allowed_classes': ['Trees', 'Grassland', 'Other']\n",
    "    #'allowed_classes': ['BarrenLand', 'Grassland', 'Buildings']\n",
    "}\n",
    "\n",
    "allowed_classes = config.get('allowed_classes', allowed_classes)\n",
    "n_classes = len(allowed_classes)\n",
    "\n",
    "image_size = 16\n",
    "batch_size = 16"
   ]
  },
  {
   "cell_type": "code",
   "execution_count": 3,
   "id": "dbe6e75d-43bf-4bab-bd61-3104beac39b6",
   "metadata": {},
   "outputs": [],
   "source": [
    "if dataset_ == \"EuroSAT\":\n",
    "\n",
    "    output = 'dl'\n",
    "    data = EuroSAT(root= 'dataset/EuroSAT_RGB',\n",
    "                            image_size=16,\n",
    "                            examples_per_class=limit,\n",
    "                            batch_size=4,\n",
    "                            allowed_classes=allowed_classes,\n",
    "                            output = output\n",
    "                     )\n",
    "    \n",
    "    if output == 'dl':\n",
    "        train_loader, val_loader = data.get_loaders()\n",
    "    else:\n",
    "        X_train, y_train, X_val, y_val, index_mapping = data.get_loaders()\n",
    "    \n",
    "        X_train = torch.tensor(X_train, dtype=torch.float32)\n",
    "        y_train = torch.tensor(y_train, dtype=torch.long)\n",
    "        X_val = torch.tensor(X_val, dtype=torch.float32)\n",
    "        y_val = torch.tensor(y_val, dtype=torch.long)\n",
    "    \n",
    "        train_dataset = TensorDataset(X_train, y_train) \n",
    "        val_dataset = TensorDataset(X_val, y_val)\n",
    "    \n",
    "        train_loader = DataLoader(train_dataset, batch_size = 32, shuffle = True)\n",
    "        val_loader = DataLoader(val_dataset, batch_size = 32, shuffle = False)\n",
    "else:\n",
    "    if dataset_ == \"DeepSat4\":\n",
    "        # Root\n",
    "        data_path = \"dataset/DeepSat4/\"\n",
    "        x_train_file = data_path + \"X_train_sat4.csv\"\n",
    "        y_train_file = data_path + \"y_train_sat4.csv\"\n",
    "        x_test_file = data_path + \"X_test_sat4.csv\"\n",
    "        y_test_file = data_path + \"y_test_sat4.csv\"\n",
    "        \n",
    "    elif dataset_ == \"DeepSat6\":\n",
    "        # Root\n",
    "        data_path = \"dataset/DeepSat6/\"\n",
    "        x_train_file = data_path + \"X_train_sat6.csv\"\n",
    "        y_train_file = data_path + \"y_train_sat6.csv\"\n",
    "        x_test_file = data_path + \"X_test_sat6.csv\"\n",
    "        y_test_file = data_path + \"y_test_sat6.csv\"\n",
    "        \n",
    "    # Limit\n",
    "    max_train_samples = limit \n",
    "    max_test_samples = int(0.2 * limit)   \n",
    "    \n",
    "    # Create DataLoaders\n",
    "    train_dataset = DeepSatCSV(x_train_file, y_train_file, max_samples=max_train_samples)\n",
    "    test_dataset = DeepSatCSV(x_test_file, y_test_file, max_samples=max_test_samples)\n",
    "\n",
    "    train_loader = DataLoader(train_dataset, batch_size=32, shuffle=True)\n",
    "    val_loader = DataLoader(test_dataset, batch_size=32, shuffle=False)\n",
    "\n",
    "\n",
    "device = torch.device(\"cuda\" if torch.cuda.is_available() else \"cpu\")\n",
    "#print(f\"Using device: {device}\")\n",
    "torch.backends.cudnn.benchmark = True"
   ]
  },
  {
   "cell_type": "code",
   "execution_count": 4,
   "id": "ae6c0b7e-28cf-4c7e-ad21-dc3cb67079a3",
   "metadata": {},
   "outputs": [
    {
     "name": "stdout",
     "output_type": "stream",
     "text": [
      "EuroSAT\n"
     ]
    }
   ],
   "source": [
    "embedding = {\n",
    "    'name': 'amplitude',\n",
    "    'func': amplitude_embedding,\n",
    "    'func_params': {\n",
    "        'img_pixels': image_size\n",
    "    }\n",
    "}\n",
    "\n",
    "# embedding = {\n",
    "#     'name': 'FRQI_MC',\n",
    "#     'func': FRQI_MC,\n",
    "#     'func_params': {\n",
    "#         'img_pixels': image_size\n",
    "#     }\n",
    "# }\n",
    "\n",
    "if embedding['name'] == \"FRQI_MC\":\n",
    "    n_wires = np.ceil(np.log2(image_size**2)+3).astype(int)\n",
    "else:\n",
    "    n_wires = np.ceil(np.log2(3*image_size**2)).astype(int)\n",
    "\n",
    "use_quantum = True\n",
    "log = False #graph accuracies in wandb\n",
    "plot = True #plot confusion matrix\n",
    "name_run = \"one_kernel\"\n",
    "\n",
    "learning_rate = 0.01\n",
    "epochs = 5\n",
    "\n",
    "print(dataset_)"
   ]
  },
  {
   "cell_type": "code",
   "execution_count": 5,
   "id": "cacc1ee7-9c24-4317-a98f-e2e4355d04c6",
   "metadata": {},
   "outputs": [],
   "source": [
    "ansatz = {\n",
    "    # 'name': 'simplified_two_design'\n",
    "    # 'name': 'one_kernel'\n",
    "    'name': 'two_kernels'\n",
    "}\n",
    "\n",
    "if ansatz['name'] == 'one_kernel':\n",
    "    ansatz['func'] = one_kernel\n",
    "    ansatz['func_params'] = {'layers':1}\n",
    "    weight_shapes,_ = get_num_params_one_kernel(range(n_wires),ansatz['func_params'])\n",
    "    \n",
    "elif ansatz['name'] == 'two_kernels':\n",
    "    ansatz['func'] = two_kernels\n",
    "    ansatz['func_params'] = {'layers':1}\n",
    "    weight_shapes,_ = get_num_params_two_kernels(range(n_wires),ansatz['func_params'])\n",
    "    \n",
    "elif ansatz['name'] == 'simplified_two_design':\n",
    "    ansatz['func'] = simplified_two_design\n",
    "    ansatz['func_params'] = {'layers':15}\n",
    "    weight_shapes,_ = get_num_params_simplified_two_design(range(n_wires),ansatz['func_params'])\n"
   ]
  },
  {
   "cell_type": "code",
   "execution_count": 6,
   "id": "a41bcb1e-a803-4e23-b87a-59083fa35d97",
   "metadata": {},
   "outputs": [],
   "source": [
    "traced_out_wires = [0,2] # qubits that are traced out in pooling layers, skipped in measurement\n",
    "params_obs = {\n",
    "    'meas_wires':[wire for wire in range(n_wires) if wire not in traced_out_wires],\n",
    "    'n_obs': len(allowed_classes)\n",
    "}\n",
    "observables = random_pauli_string_over_meas_wires(range(n_wires),params_obs)\n",
    "# observables = get_pauli_multiqubit_observables(range(n_wires),params_obs)\n",
    "\n",
    "# measurement = {\n",
    "#     'name': 'default',\n",
    "#     'func': default_measurement,\n",
    "#     'func_params': {\n",
    "#         'observable': qml.PauliZ,\n",
    "#         'meas_wires': params_obs['meas_wires']\n",
    "#     }\n",
    "# }\n",
    "\n",
    "measurement = {\n",
    "    'name': 'multiqubit',\n",
    "    'func': measurement_multiqubit,\n",
    "    'func_params': {\n",
    "        'observables': observables\n",
    "    }\n",
    "}"
   ]
  },
  {
   "cell_type": "code",
   "execution_count": 7,
   "id": "8d72680f-abae-4a4d-a3ad-73ee1dfa8f65",
   "metadata": {},
   "outputs": [
    {
     "data": {
      "text/plain": [
       "[Z(1) @ Z(3) @ X(4) @ Y(5) @ Y(6) @ X(7) @ X(8) @ Z(9),\n",
       " Y(1) @ Y(3) @ Y(6) @ X(7)]"
      ]
     },
     "execution_count": 7,
     "metadata": {},
     "output_type": "execute_result"
    }
   ],
   "source": [
    "observables"
   ]
  },
  {
   "cell_type": "code",
   "execution_count": 8,
   "id": "25da4b26-c918-46ce-ab64-ea3559331d37",
   "metadata": {},
   "outputs": [],
   "source": [
    "from src.utils.reshape_data import ReshapeDATA"
   ]
  },
  {
   "cell_type": "code",
   "execution_count": 9,
   "id": "0282c4d5-fac2-4561-ab7a-1419da7a3cd4",
   "metadata": {},
   "outputs": [
    {
     "data": {
      "text/plain": [
       "254"
      ]
     },
     "execution_count": 9,
     "metadata": {},
     "output_type": "execute_result"
    }
   ],
   "source": [
    "weight_shapes"
   ]
  },
  {
   "cell_type": "markdown",
   "id": "164f5dde-f37c-4aa4-ad08-ebcb0ac5c54b",
   "metadata": {},
   "source": [
    "Execute for the four possible orderings (`'structure'` can be `'random', 'square_and_vertical', 'vertical_and_horizontal'` or `'flat'`)"
   ]
  },
  {
   "cell_type": "code",
   "execution_count": 10,
   "id": "d39bf48c-7eec-412c-b7d8-7f7d2cbb66e1",
   "metadata": {},
   "outputs": [],
   "source": [
    "model_qcnn = QuantumCircuitModel(n_wires=n_wires,\n",
    "                     embedding=embedding,\n",
    "                     circuit=ansatz,\n",
    "                     measurement=measurement,\n",
    "                     weight_shapes={'weights':weight_shapes},\n",
    "                     reshaper=ReshapeDATA(wires=range(n_wires),params={'structure':'square_and_vertical','img_pixels':image_size}))"
   ]
  },
  {
   "cell_type": "markdown",
   "id": "3a3ee137-3de9-4137-afd3-b48020774d5f",
   "metadata": {},
   "source": [
    "## Fit model"
   ]
  },
  {
   "cell_type": "code",
   "execution_count": 11,
   "id": "2486fd16-9755-4ed0-9013-973207cb26e4",
   "metadata": {},
   "outputs": [],
   "source": [
    "name_prueba = f\"Pruebas QCNN\"\n",
    "\n",
    "trainer_qcnn = Trainer(model = model_qcnn,\n",
    "                  train_loader = train_loader,\n",
    "                  val_loader = val_loader,\n",
    "                  epochs = epochs,\n",
    "                  log = log,\n",
    "                  use_quantum = use_quantum,\n",
    "                  plot = plot,\n",
    "                  allowed_classes = allowed_classes,\n",
    "                  lr = learning_rate,\n",
    "                  use_schedulefree = True)\n",
    "trainer_qcnn.device = 'cpu'\n"
   ]
  },
  {
   "cell_type": "code",
   "execution_count": 12,
   "id": "ba6b645e-0c37-472b-b7d3-677ce288fcf5",
   "metadata": {},
   "outputs": [
    {
     "name": "stderr",
     "output_type": "stream",
     "text": [
      "\u001b[32m2025-03-12 20:53:44.179\u001b[0m | \u001b[34m\u001b[1mDEBUG   \u001b[0m | \u001b[36msrc.utils.training\u001b[0m:\u001b[36mfit\u001b[0m:\u001b[36m226\u001b[0m - \u001b[34m\u001b[1mEpoch [1/5]: Train Loss = 0.6784, Train Acc = 59.38%, Val Loss = 0.6683, Val Acc = 65.00%\u001b[0m\n",
      "\u001b[32m2025-03-12 20:54:46.676\u001b[0m | \u001b[34m\u001b[1mDEBUG   \u001b[0m | \u001b[36msrc.utils.training\u001b[0m:\u001b[36mfit\u001b[0m:\u001b[36m226\u001b[0m - \u001b[34m\u001b[1mEpoch [2/5]: Train Loss = 0.6302, Train Acc = 72.50%, Val Loss = 0.6485, Val Acc = 60.00%\u001b[0m\n",
      "\u001b[32m2025-03-12 20:56:22.975\u001b[0m | \u001b[34m\u001b[1mDEBUG   \u001b[0m | \u001b[36msrc.utils.training\u001b[0m:\u001b[36mfit\u001b[0m:\u001b[36m226\u001b[0m - \u001b[34m\u001b[1mEpoch [3/5]: Train Loss = 0.6109, Train Acc = 70.00%, Val Loss = 0.6417, Val Acc = 60.00%\u001b[0m\n",
      "\u001b[32m2025-03-12 20:58:10.556\u001b[0m | \u001b[34m\u001b[1mDEBUG   \u001b[0m | \u001b[36msrc.utils.training\u001b[0m:\u001b[36mfit\u001b[0m:\u001b[36m226\u001b[0m - \u001b[34m\u001b[1mEpoch [4/5]: Train Loss = 0.6010, Train Acc = 71.25%, Val Loss = 0.6331, Val Acc = 60.00%\u001b[0m\n",
      "\u001b[32m2025-03-12 21:00:07.776\u001b[0m | \u001b[34m\u001b[1mDEBUG   \u001b[0m | \u001b[36msrc.utils.training\u001b[0m:\u001b[36mfit\u001b[0m:\u001b[36m226\u001b[0m - \u001b[34m\u001b[1mEpoch [5/5]: Train Loss = 0.5934, Train Acc = 74.38%, Val Loss = 0.6264, Val Acc = 65.00%\u001b[0m\n"
     ]
    },
    {
     "data": {
      "image/png": "[encoded data removed]",
      "text/plain": [
       "<Figure size 800x600 with 2 Axes>"
      ]
     },
     "metadata": {},
     "output_type": "display_data"
    },
    {
     "data": {
      "image/png": "[encoded data removed]",
      "text/plain": [
       "<Figure size 800x600 with 2 Axes>"
      ]
     },
     "metadata": {},
     "output_type": "display_data"
    },
    {
     "name": "stdout",
     "output_type": "stream",
     "text": [
      "Tiempo de entrenamiento: 7 minutos y 28 segundos\n"
     ]
    }
   ],
   "source": [
    "t0 = time.time()\n",
    "trainer_qcnn.fit()\n",
    "t1 = (time.time()-t0)/60\n",
    "print(f\"Tiempo de entrenamiento: {int(t1)} minutos y {int(np.round((t1-int(t1))*60,0))} segundos\")\n"
   ]
  }
 ],
 "metadata": {
  "kernelspec": {
   "display_name": "venv",
   "language": "python",
   "name": "python3"
  },
  "language_info": {
   "codemirror_mode": {
    "name": "ipython",
    "version": 3
   },
   "file_extension": ".py",
   "mimetype": "text/x-python",
   "name": "python",
   "nbconvert_exporter": "python",
   "pygments_lexer": "ipython3",
   "version": "3.10.0"
  }
 },
 "nbformat": 4,
 "nbformat_minor": 5
}
